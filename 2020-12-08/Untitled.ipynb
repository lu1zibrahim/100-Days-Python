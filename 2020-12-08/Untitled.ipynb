{
 "cells": [
  {
   "cell_type": "code",
   "execution_count": 10,
   "metadata": {},
   "outputs": [],
   "source": [
    "def get_drink_by_profession(param):\n",
    "    my_dict = {\n",
    "        \"Jabroni\":\"Patron Tequila\",\n",
    "        \"School Counselor\":\"Anything with Alcohol\",\n",
    "        \"Programmer\":\"Hipster Craft Beer\",\n",
    "        \"Bike Gang Member\":\"Moonshine\",\n",
    "        \"Politician\":\"Your tax dollars\",\n",
    "        \"Rapper\":\"Cristal\",\n",
    "        \"anything else\":\"Beer\"\n",
    "    }\n",
    "    return my_dict.get(param.title())"
   ]
  },
  {
   "cell_type": "code",
   "execution_count": 11,
   "metadata": {},
   "outputs": [
    {
     "data": {
      "text/plain": [
       "'Moonshine'"
      ]
     },
     "execution_count": 11,
     "metadata": {},
     "output_type": "execute_result"
    }
   ],
   "source": [
    "get_drink_by_profession(\"bike ganG member\")"
   ]
  },
  {
   "cell_type": "code",
   "execution_count": null,
   "metadata": {},
   "outputs": [],
   "source": []
  }
 ],
 "metadata": {
  "kernelspec": {
   "display_name": "Python 3",
   "language": "python",
   "name": "python3"
  },
  "language_info": {
   "codemirror_mode": {
    "name": "ipython",
    "version": 3
   },
   "file_extension": ".py",
   "mimetype": "text/x-python",
   "name": "python",
   "nbconvert_exporter": "python",
   "pygments_lexer": "ipython3",
   "version": "3.8.3"
  }
 },
 "nbformat": 4,
 "nbformat_minor": 4
}
